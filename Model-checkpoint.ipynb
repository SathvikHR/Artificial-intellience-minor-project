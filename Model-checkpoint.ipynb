{
 "cells": [
  {
   "cell_type": "markdown",
   "id": "30657aee",
   "metadata": {},
   "source": [
    "# Importing the required Packages for the model"
   ]
  },
  {
   "cell_type": "code",
   "execution_count": 65,
   "id": "0bd32682",
   "metadata": {},
   "outputs": [
    {
     "data": {
      "text/html": [
       "        <script type=\"text/javascript\">\n",
       "        window.PlotlyConfig = {MathJaxConfig: 'local'};\n",
       "        if (window.MathJax) {MathJax.Hub.Config({SVG: {font: \"STIX-Web\"}});}\n",
       "        if (typeof require !== 'undefined') {\n",
       "        require.undef(\"plotly\");\n",
       "        requirejs.config({\n",
       "            paths: {\n",
       "                'plotly': ['https://cdn.plot.ly/plotly-2.2.0.min']\n",
       "            }\n",
       "        });\n",
       "        require(['plotly'], function(Plotly) {\n",
       "            window._Plotly = Plotly;\n",
       "        });\n",
       "        }\n",
       "        </script>\n",
       "        "
      ]
     },
     "metadata": {},
     "output_type": "display_data"
    }
   ],
   "source": [
    "import tensorflow as tf\n",
    "import numpy as np\n",
    "import pandas as pd\n",
    "from sklearn.model_selection import train_test_split\n",
    "from sklearn.metrics import classification_report\n",
    "from tensorflow import keras\n",
    "from tensorflow.python.keras.models import Sequential\n",
    "from tensorflow.python.keras.layers import Dense, Flatten, Conv2D, Dropout, MaxPooling2D\n",
    "from IPython.display import SVG\n",
    "from keras.utils.vis_utils import model_to_dot\n",
    "from keras.utils import plot_model\n",
    "from keras.utils import np_utils\n",
    "from keras.utils import to_categorical\n",
    "import seaborn as sns\n",
    "import matplotlib.pyplot as plt\n",
    "from sklearn.metrics import confusion_matrix, ConfusionMatrixDisplay\n",
    "from sklearn.datasets import make_classification\n",
    "from mlxtend.evaluate import confusion_matrix\n",
    "from mlxtend.plotting import plot_confusion_matrix\n",
    "\n",
    "\n",
    "\n",
    "\n",
    "\n",
    "%matplotlib inline \n",
    "import plotly.graph_objs as go\n",
    "import plotly.figure_factory as ff\n",
    "from plotly import tools\n",
    "from sklearn.metrics import confusion_matrix\n",
    "from plotly.offline import download_plotlyjs, init_notebook_mode, plot, iplot\n",
    "init_notebook_mode(connected=True)"
   ]
  },
  {
   "cell_type": "markdown",
   "id": "a79cfa4d",
   "metadata": {},
   "source": [
    "# Defining parameters and extracting the dataset\n",
    "\n"
   ]
  },
  {
   "cell_type": "code",
   "execution_count": 66,
   "id": "9d8b4206",
   "metadata": {},
   "outputs": [
    {
     "name": "stdout",
     "output_type": "stream",
     "text": [
      "['.ipynb_checkpoints', 'fashion-mnist_test.csv', 'fashion-mnist_train.csv', 'Model.ipynb', 't10k-images-idx3-ubyte', 't10k-labels-idx1-ubyte', 'train-images-idx3-ubyte', 'train-labels-idx1-ubyte']\n"
     ]
    }
   ],
   "source": [
    "IMG_ROWS = 28\n",
    "IMG_COLS = 28\n",
    "NUM_CLASSES = 10\n",
    "TEST_SIZE = 0.2\n",
    "RANDOM_STATE = 2018\n",
    "#Model\n",
    "NO_EPOCHS = 50\n",
    "BATCH_SIZE = 128\n",
    "\n",
    "tf.keras.datasets.fashion_mnist.load_data()\n",
    "import os\n",
    "PATH=r\"C:\\Users\\sathv\\AI minor project\"\n",
    "print(os.listdir(PATH))\n"
   ]
  },
  {
   "cell_type": "markdown",
   "id": "c3f468ed",
   "metadata": {},
   "source": [
    "# Read the data\n"
   ]
  },
  {
   "cell_type": "code",
   "execution_count": 67,
   "id": "bfc018a4",
   "metadata": {},
   "outputs": [],
   "source": [
    "train_file = \"fashion-mnist_train.csv\"\n",
    "test_file  = \"fashion-mnist_test.csv\"\n",
    "\n",
    "train_data = pd.read_csv(train_file)\n",
    "test_data = pd.read_csv(test_file)"
   ]
  },
  {
   "cell_type": "markdown",
   "id": "ddf3b2fd",
   "metadata": {},
   "source": [
    "# data exploration i.e., exploring the division of dataset\n",
    " "
   ]
  },
  {
   "cell_type": "code",
   "execution_count": 68,
   "id": "361273f5",
   "metadata": {},
   "outputs": [
    {
     "name": "stdout",
     "output_type": "stream",
     "text": [
      "Fashion MNIST train -  rows: 60000  columns: 785\n",
      "Fashion MNIST test -  rows: 10000  columns: 785\n"
     ]
    }
   ],
   "source": [
    "print(\"Fashion MNIST train -  rows:\",train_data.shape[0],\" columns:\", train_data.shape[1])\n",
    "print(\"Fashion MNIST test -  rows:\",test_data.shape[0],\" columns:\", test_data.shape[1])"
   ]
  },
  {
   "cell_type": "markdown",
   "id": "326019bf",
   "metadata": {},
   "source": [
    "# Class distribution and identifying the labels"
   ]
  },
  {
   "cell_type": "code",
   "execution_count": 69,
   "id": "67a87caa",
   "metadata": {},
   "outputs": [
    {
     "name": "stdout",
     "output_type": "stream",
     "text": [
      "Pullover            :   6000 or 10.0%\n",
      "Ankle Boot          :   6000 or 10.0%\n",
      "Shirt               :   6000 or 10.0%\n",
      "T-shirt/top         :   6000 or 10.0%\n",
      "Dress               :   6000 or 10.0%\n",
      "Coat                :   6000 or 10.0%\n",
      "Sandal              :   6000 or 10.0%\n",
      "Bag                 :   6000 or 10.0%\n",
      "Sneaker             :   6000 or 10.0%\n",
      "Trouser             :   6000 or 10.0%\n"
     ]
    }
   ],
   "source": [
    "# Creating a dictionary for each type of label \n",
    "labels = {0 : \"T-shirt/top\", 1: \"Trouser\", 2: \"Pullover\", 3: \"Dress\", 4: \"Coat\",\n",
    "          5: \"Sandal\", 6: \"Shirt\", 7: \"Sneaker\", 8: \"Bag\", 9: \"Ankle Boot\"}\n",
    "\n",
    "def get_classes_distribution(data):\n",
    "    # Get the count for each label\n",
    "    label_counts = data[\"label\"].value_counts()\n",
    "\n",
    "    # Get total number of samples\n",
    "    total_samples = len(data)\n",
    "\n",
    "\n",
    "    # Count the number of items in each class\n",
    "    for i in range(len(label_counts)):\n",
    "        label = labels[label_counts.index[i]]\n",
    "        count = label_counts.values[i]\n",
    "        percent = (count / total_samples) * 100\n",
    "        print(\"{:<20s}:   {} or {}%\".format(label, count, percent))\n",
    "\n",
    "label=get_classes_distribution(train_data)"
   ]
  },
  {
   "cell_type": "markdown",
   "id": "ba69b8b4",
   "metadata": {},
   "source": [
    "# Pictorial representation of division of training dataset"
   ]
  },
  {
   "cell_type": "code",
   "execution_count": 70,
   "id": "36aa2a79",
   "metadata": {},
   "outputs": [
    {
     "name": "stderr",
     "output_type": "stream",
     "text": [
      "C:\\Users\\sathv\\anaconda3\\envs\\Tensorflow-gpu\\lib\\site-packages\\seaborn\\_decorators.py:36: FutureWarning:\n",
      "\n",
      "Pass the following variable as a keyword arg: x. From version 0.12, the only valid positional argument will be `data`, and passing other arguments without an explicit keyword will result in an error or misinterpretation.\n",
      "\n"
     ]
    },
    {
     "data": {
      "image/png": "[encoded data removed]",
      "text/plain": [
       "<Figure size 864x288 with 1 Axes>"
      ]
     },
     "metadata": {
      "needs_background": "light"
     },
     "output_type": "display_data"
    }
   ],
   "source": [
    "def plot_label_per_class(data):\n",
    "    f, ax = plt.subplots(1,1, figsize=(12,4))\n",
    "    g = sns.countplot(data.label, order = data[\"label\"].value_counts().index)\n",
    "    g.set_title(\"Number of labels for each class\")\n",
    "\n",
    "    for p, label in zip(g.patches, data[\"label\"].value_counts().index):\n",
    "        g.annotate(labels[label], (p.get_x(), p.get_height()+0.1))\n",
    "    plt.show()  \n",
    "    \n",
    "plot_label_per_class(train_data)"
   ]
  },
  {
   "cell_type": "markdown",
   "id": "f421d9ad",
   "metadata": {},
   "source": [
    "# Pictorial representation of Test dataset"
   ]
  },
  {
   "cell_type": "code",
   "execution_count": 71,
   "id": "43ef4f53",
   "metadata": {},
   "outputs": [
    {
     "name": "stdout",
     "output_type": "stream",
     "text": [
      "T-shirt/top         :   1000 or 10.0%\n",
      "Trouser             :   1000 or 10.0%\n",
      "Pullover            :   1000 or 10.0%\n",
      "Dress               :   1000 or 10.0%\n",
      "Bag                 :   1000 or 10.0%\n",
      "Shirt               :   1000 or 10.0%\n",
      "Sandal              :   1000 or 10.0%\n",
      "Coat                :   1000 or 10.0%\n",
      "Sneaker             :   1000 or 10.0%\n",
      "Ankle Boot          :   1000 or 10.0%\n"
     ]
    },
    {
     "name": "stderr",
     "output_type": "stream",
     "text": [
      "C:\\Users\\sathv\\anaconda3\\envs\\Tensorflow-gpu\\lib\\site-packages\\seaborn\\_decorators.py:36: FutureWarning:\n",
      "\n",
      "Pass the following variable as a keyword arg: x. From version 0.12, the only valid positional argument will be `data`, and passing other arguments without an explicit keyword will result in an error or misinterpretation.\n",
      "\n"
     ]
    },
    {
     "data": {
      "image/png": "[encoded data removed]",
      "text/plain": [
       "<Figure size 864x288 with 1 Axes>"
      ]
     },
     "metadata": {
      "needs_background": "light"
     },
     "output_type": "display_data"
    }
   ],
   "source": [
    "get_classes_distribution(test_data)\n",
    "plot_label_per_class(test_data)\n"
   ]
  },
  {
   "cell_type": "markdown",
   "id": "054f96b6",
   "metadata": {},
   "source": [
    "# Data preprocessing (Split train in train and validation set)"
   ]
  },
  {
   "cell_type": "code",
   "execution_count": 72,
   "id": "94ad6047",
   "metadata": {},
   "outputs": [],
   "source": [
    "# data preprocessing\n",
    "def data_preprocessing(raw):\n",
    "    out_y = keras.utils.to_categorical(raw.label, NUM_CLASSES)\n",
    "    num_images = raw.shape[0]\n",
    "    x_as_array = raw.values[:,1:]\n",
    "    x_shaped_array = x_as_array.reshape(num_images, IMG_ROWS, IMG_COLS, 1)\n",
    "    out_x = x_shaped_array / 255\n",
    "    return out_x, out_y\n"
   ]
  },
  {
   "cell_type": "code",
   "execution_count": 73,
   "id": "417cb047",
   "metadata": {},
   "outputs": [],
   "source": [
    "# prepare the data\n",
    "X, y = data_preprocessing(train_data)\n",
    "X_test, y_test = data_preprocessing(test_data)"
   ]
  },
  {
   "cell_type": "code",
   "execution_count": 74,
   "id": "d00ad0a9",
   "metadata": {},
   "outputs": [],
   "source": [
    "X_train, X_val, y_train, y_val = train_test_split(X, y, test_size=TEST_SIZE, random_state=RANDOM_STATE)"
   ]
  },
  {
   "cell_type": "code",
   "execution_count": 75,
   "id": "76eb5ebd",
   "metadata": {},
   "outputs": [
    {
     "name": "stdout",
     "output_type": "stream",
     "text": [
      "Fashion MNIST train -  rows: 48000  columns: (28, 28, 1)\n",
      "Fashion MNIST valid -  rows: 12000  columns: (28, 28, 1)\n",
      "Fashion MNIST test -  rows: 10000  columns: (28, 28, 1)\n"
     ]
    }
   ],
   "source": [
    "print(\"Fashion MNIST train -  rows:\",X_train.shape[0],\" columns:\", X_train.shape[1:4])\n",
    "print(\"Fashion MNIST valid -  rows:\",X_val.shape[0],\" columns:\", X_val.shape[1:4])\n",
    "print(\"Fashion MNIST test -  rows:\",X_test.shape[0],\" columns:\", X_test.shape[1:4])"
   ]
  },
  {
   "cell_type": "code",
   "execution_count": 76,
   "id": "9aecce1f",
   "metadata": {},
   "outputs": [
    {
     "name": "stderr",
     "output_type": "stream",
     "text": [
      "C:\\Users\\sathv\\anaconda3\\envs\\Tensorflow-gpu\\lib\\site-packages\\seaborn\\_decorators.py:36: FutureWarning:\n",
      "\n",
      "Pass the following variable as a keyword arg: x. From version 0.12, the only valid positional argument will be `data`, and passing other arguments without an explicit keyword will result in an error or misinterpretation.\n",
      "\n"
     ]
    },
    {
     "data": {
      "image/png": "[encoded data removed]",
      "text/plain": [
       "<Figure size 864x288 with 1 Axes>"
      ]
     },
     "metadata": {
      "needs_background": "light"
     },
     "output_type": "display_data"
    },
    {
     "name": "stdout",
     "output_type": "stream",
     "text": [
      "Dress               :   4891 or 10.189583333333333%\n",
      "Sandal              :   4855 or 10.114583333333334%\n",
      "Pullover            :   4836 or 10.075000000000001%\n",
      "Ankle Boot          :   4827 or 10.05625%\n",
      "Sneaker             :   4798 or 9.995833333333334%\n",
      "Coat                :   4796 or 9.991666666666667%\n",
      "Shirt               :   4779 or 9.95625%\n",
      "Bag                 :   4757 or 9.910416666666666%\n",
      "Trouser             :   4745 or 9.885416666666668%\n",
      "T-shirt/top         :   4716 or 9.825000000000001%\n"
     ]
    }
   ],
   "source": [
    "def plot_count_per_class(yd):\n",
    "    ydf = pd.DataFrame(yd)\n",
    "    f, ax = plt.subplots(1,1, figsize=(12,4))\n",
    "    g = sns.countplot(ydf[0], order = np.arange(0,10))\n",
    "    g.set_title(\"Number of items for each class\")\n",
    "    g.set_xlabel(\"Category\")\n",
    "    \n",
    "    for p, label in zip(g.patches, np.arange(0,10)):\n",
    "        g.annotate(labels[label], (p.get_x(), p.get_height()+0.1))\n",
    "        \n",
    "    plt.show()  \n",
    "\n",
    "def get_count_per_class(yd):\n",
    "    ydf = pd.DataFrame(yd)\n",
    "    # Get the count for each label\n",
    "    label_counts = ydf[0].value_counts()\n",
    "\n",
    "    # Get total number of samples\n",
    "    total_samples = len(yd)\n",
    "\n",
    "\n",
    "    # Count the number of items in each class\n",
    "    for i in range(len(label_counts)):\n",
    "        label = labels[label_counts.index[i]]\n",
    "        count = label_counts.values[i]\n",
    "        percent = (count / total_samples) * 100\n",
    "        print(\"{:<20s}:   {} or {}%\".format(label, count, percent))\n",
    "    \n",
    "plot_count_per_class(np.argmax(y_train,axis=1))\n",
    "get_count_per_class(np.argmax(y_train,axis=1))"
   ]
  },
  {
   "cell_type": "code",
   "execution_count": 77,
   "id": "cb6bf6ee",
   "metadata": {},
   "outputs": [
    {
     "name": "stderr",
     "output_type": "stream",
     "text": [
      "C:\\Users\\sathv\\anaconda3\\envs\\Tensorflow-gpu\\lib\\site-packages\\seaborn\\_decorators.py:36: FutureWarning:\n",
      "\n",
      "Pass the following variable as a keyword arg: x. From version 0.12, the only valid positional argument will be `data`, and passing other arguments without an explicit keyword will result in an error or misinterpretation.\n",
      "\n"
     ]
    },
    {
     "data": {
      "image/png": "[encoded data removed]",
      "text/plain": [
       "<Figure size 864x288 with 1 Axes>"
      ]
     },
     "metadata": {
      "needs_background": "light"
     },
     "output_type": "display_data"
    },
    {
     "name": "stdout",
     "output_type": "stream",
     "text": [
      "T-shirt/top         :   1284 or 10.7%\n",
      "Trouser             :   1255 or 10.458333333333334%\n",
      "Bag                 :   1243 or 10.358333333333333%\n",
      "Shirt               :   1221 or 10.174999999999999%\n",
      "Coat                :   1204 or 10.033333333333333%\n",
      "Sneaker             :   1202 or 10.016666666666667%\n",
      "Ankle Boot          :   1173 or 9.775%\n",
      "Pullover            :   1164 or 9.700000000000001%\n",
      "Sandal              :   1145 or 9.541666666666666%\n",
      "Dress               :   1109 or 9.241666666666665%\n"
     ]
    }
   ],
   "source": [
    "plot_count_per_class(np.argmax(y_val,axis=1))\n",
    "get_count_per_class(np.argmax(y_val,axis=1))"
   ]
  },
  {
   "cell_type": "markdown",
   "id": "55ed9295",
   "metadata": {},
   "source": [
    "# Training our model using CNN and reducing overfitting by introducing Dropout layer."
   ]
  },
  {
   "cell_type": "code",
   "execution_count": 78,
   "id": "8f9cfb17",
   "metadata": {},
   "outputs": [],
   "source": [
    "# Model\n",
    "model = Sequential()\n",
    "# Add convolution 2D\n",
    "model.add(Conv2D(32, kernel_size=(3, 3),\n",
    "                 activation='relu',\n",
    "                 kernel_initializer='he_normal',\n",
    "                 input_shape=(IMG_ROWS, IMG_COLS, 1)))\n",
    "model.add(MaxPooling2D((2, 2)))\n",
    "# Add dropouts to the model\n",
    "model.add(Dropout(0.25))\n",
    "model.add(Conv2D(64, \n",
    "                 kernel_size=(3, 3), \n",
    "                 activation='relu'))\n",
    "model.add(MaxPooling2D(pool_size=(2, 2)))\n",
    "# Add dropouts to the model\n",
    "model.add(Dropout(0.25))\n",
    "model.add(Conv2D(128, (3, 3), activation='relu'))\n",
    "# Add dropouts to the model\n",
    "model.add(Dropout(0.4))\n",
    "model.add(Flatten())\n",
    "model.add(Dense(128, activation='relu'))\n",
    "# Add dropouts to the model\n",
    "model.add(Dropout(0.3))\n",
    "model.add(Dense(NUM_CLASSES, activation='softmax'))\n",
    "\n",
    "\n",
    "model.compile(loss=keras.losses.categorical_crossentropy,\n",
    "              optimizer='adam',\n",
    "              metrics=['accuracy'])"
   ]
  },
  {
   "cell_type": "code",
   "execution_count": 79,
   "id": "1b5f66eb",
   "metadata": {},
   "outputs": [
    {
     "name": "stdout",
     "output_type": "stream",
     "text": [
      "Model: \"sequential_1\"\n",
      "_________________________________________________________________\n",
      "Layer (type)                 Output Shape              Param #   \n",
      "=================================================================\n",
      "conv2d_3 (Conv2D)            (None, 26, 26, 32)        320       \n",
      "_________________________________________________________________\n",
      "max_pooling2d_2 (MaxPooling2 (None, 13, 13, 32)        0         \n",
      "_________________________________________________________________\n",
      "dropout_4 (Dropout)          (None, 13, 13, 32)        0         \n",
      "_________________________________________________________________\n",
      "conv2d_4 (Conv2D)            (None, 11, 11, 64)        18496     \n",
      "_________________________________________________________________\n",
      "max_pooling2d_3 (MaxPooling2 (None, 5, 5, 64)          0         \n",
      "_________________________________________________________________\n",
      "dropout_5 (Dropout)          (None, 5, 5, 64)          0         \n",
      "_________________________________________________________________\n",
      "conv2d_5 (Conv2D)            (None, 3, 3, 128)         73856     \n",
      "_________________________________________________________________\n",
      "dropout_6 (Dropout)          (None, 3, 3, 128)         0         \n",
      "_________________________________________________________________\n",
      "flatten_1 (Flatten)          (None, 1152)              0         \n",
      "_________________________________________________________________\n",
      "dense_2 (Dense)              (None, 128)               147584    \n",
      "_________________________________________________________________\n",
      "dropout_7 (Dropout)          (None, 128)               0         \n",
      "_________________________________________________________________\n",
      "dense_3 (Dense)              (None, 10)                1290      \n",
      "=================================================================\n",
      "Total params: 241,546\n",
      "Trainable params: 241,546\n",
      "Non-trainable params: 0\n",
      "_________________________________________________________________\n"
     ]
    }
   ],
   "source": [
    "model.summary()"
   ]
  },
  {
   "cell_type": "code",
   "execution_count": 80,
   "id": "9e52f9f9",
   "metadata": {},
   "outputs": [
    {
     "name": "stdout",
     "output_type": "stream",
     "text": [
      "Epoch 1/50\n",
      "375/375 [==============================] - 21s 57ms/step - loss: 0.7617 - accuracy: 0.7144 - val_loss: 0.4766 - val_accuracy: 0.8262\n",
      "Epoch 2/50\n",
      "375/375 [==============================] - 22s 60ms/step - loss: 0.4903 - accuracy: 0.8215 - val_loss: 0.3721 - val_accuracy: 0.8662\n",
      "Epoch 3/50\n",
      "375/375 [==============================] - 22s 58ms/step - loss: 0.4187 - accuracy: 0.8462 - val_loss: 0.3309 - val_accuracy: 0.8777\n",
      "Epoch 4/50\n",
      "375/375 [==============================] - 28s 75ms/step - loss: 0.3786 - accuracy: 0.8615 - val_loss: 0.3149 - val_accuracy: 0.8869\n",
      "Epoch 5/50\n",
      "375/375 [==============================] - 27s 72ms/step - loss: 0.3527 - accuracy: 0.8709 - val_loss: 0.3005 - val_accuracy: 0.8873\n",
      "Epoch 6/50\n",
      "375/375 [==============================] - 28s 75ms/step - loss: 0.3292 - accuracy: 0.8797 - val_loss: 0.2803 - val_accuracy: 0.8978\n",
      "Epoch 7/50\n",
      "375/375 [==============================] - 28s 76ms/step - loss: 0.3119 - accuracy: 0.8833 - val_loss: 0.2787 - val_accuracy: 0.8969\n",
      "Epoch 8/50\n",
      "375/375 [==============================] - 26s 70ms/step - loss: 0.3077 - accuracy: 0.8857 - val_loss: 0.2662 - val_accuracy: 0.9019\n",
      "Epoch 9/50\n",
      "375/375 [==============================] - 28s 74ms/step - loss: 0.2929 - accuracy: 0.8913 - val_loss: 0.2564 - val_accuracy: 0.9065\n",
      "Epoch 10/50\n",
      "375/375 [==============================] - 25s 68ms/step - loss: 0.2895 - accuracy: 0.8942 - val_loss: 0.2537 - val_accuracy: 0.9077\n",
      "Epoch 11/50\n",
      "375/375 [==============================] - 22s 60ms/step - loss: 0.2770 - accuracy: 0.8975 - val_loss: 0.2485 - val_accuracy: 0.9099\n",
      "Epoch 12/50\n",
      "375/375 [==============================] - 24s 63ms/step - loss: 0.2699 - accuracy: 0.8996 - val_loss: 0.2556 - val_accuracy: 0.9075\n",
      "Epoch 13/50\n",
      "375/375 [==============================] - 34s 90ms/step - loss: 0.2642 - accuracy: 0.9022 - val_loss: 0.2425 - val_accuracy: 0.9107\n",
      "Epoch 14/50\n",
      "375/375 [==============================] - 28s 74ms/step - loss: 0.2553 - accuracy: 0.9052 - val_loss: 0.2520 - val_accuracy: 0.9055\n",
      "Epoch 15/50\n",
      "375/375 [==============================] - 28s 75ms/step - loss: 0.2532 - accuracy: 0.9067 - val_loss: 0.2422 - val_accuracy: 0.9128\n",
      "Epoch 16/50\n",
      "375/375 [==============================] - 27s 72ms/step - loss: 0.2490 - accuracy: 0.9065 - val_loss: 0.2423 - val_accuracy: 0.9115\n",
      "Epoch 17/50\n",
      "375/375 [==============================] - 26s 70ms/step - loss: 0.2461 - accuracy: 0.9071 - val_loss: 0.2400 - val_accuracy: 0.9123\n",
      "Epoch 18/50\n",
      "375/375 [==============================] - 23s 60ms/step - loss: 0.2389 - accuracy: 0.9103 - val_loss: 0.2358 - val_accuracy: 0.9131\n",
      "Epoch 19/50\n",
      "375/375 [==============================] - 23s 62ms/step - loss: 0.2345 - accuracy: 0.9124 - val_loss: 0.2357 - val_accuracy: 0.9148\n",
      "Epoch 20/50\n",
      "375/375 [==============================] - 23s 62ms/step - loss: 0.2340 - accuracy: 0.9121 - val_loss: 0.2315 - val_accuracy: 0.9156\n",
      "Epoch 21/50\n",
      "375/375 [==============================] - 22s 58ms/step - loss: 0.2317 - accuracy: 0.9125 - val_loss: 0.2332 - val_accuracy: 0.9147\n",
      "Epoch 22/50\n",
      "375/375 [==============================] - 23s 61ms/step - loss: 0.2305 - accuracy: 0.9138 - val_loss: 0.2270 - val_accuracy: 0.9183\n",
      "Epoch 23/50\n",
      "375/375 [==============================] - 22s 58ms/step - loss: 0.2236 - accuracy: 0.9163 - val_loss: 0.2347 - val_accuracy: 0.9143\n",
      "Epoch 24/50\n",
      "375/375 [==============================] - 22s 58ms/step - loss: 0.2233 - accuracy: 0.9150 - val_loss: 0.2291 - val_accuracy: 0.9176\n",
      "Epoch 25/50\n",
      "375/375 [==============================] - 23s 61ms/step - loss: 0.2222 - accuracy: 0.9166 - val_loss: 0.2266 - val_accuracy: 0.9189\n",
      "Epoch 26/50\n",
      "375/375 [==============================] - 22s 59ms/step - loss: 0.2190 - accuracy: 0.9178 - val_loss: 0.2264 - val_accuracy: 0.9195\n",
      "Epoch 27/50\n",
      "375/375 [==============================] - 25s 67ms/step - loss: 0.2167 - accuracy: 0.9191 - val_loss: 0.2247 - val_accuracy: 0.9193\n",
      "Epoch 28/50\n",
      "375/375 [==============================] - 22s 59ms/step - loss: 0.2154 - accuracy: 0.9201 - val_loss: 0.2367 - val_accuracy: 0.9144\n",
      "Epoch 29/50\n",
      "375/375 [==============================] - 25s 67ms/step - loss: 0.2126 - accuracy: 0.9191 - val_loss: 0.2250 - val_accuracy: 0.9205\n",
      "Epoch 30/50\n",
      "375/375 [==============================] - 21s 56ms/step - loss: 0.2079 - accuracy: 0.9209 - val_loss: 0.2231 - val_accuracy: 0.9225\n",
      "Epoch 31/50\n",
      "375/375 [==============================] - 22s 60ms/step - loss: 0.2072 - accuracy: 0.9222 - val_loss: 0.2184 - val_accuracy: 0.9215\n",
      "Epoch 32/50\n",
      "375/375 [==============================] - 23s 62ms/step - loss: 0.2062 - accuracy: 0.9224 - val_loss: 0.2288 - val_accuracy: 0.9192\n",
      "Epoch 33/50\n",
      "375/375 [==============================] - 21s 56ms/step - loss: 0.2069 - accuracy: 0.9222 - val_loss: 0.2249 - val_accuracy: 0.9187\n",
      "Epoch 34/50\n",
      "375/375 [==============================] - 21s 55ms/step - loss: 0.2054 - accuracy: 0.9223 - val_loss: 0.2362 - val_accuracy: 0.9161\n",
      "Epoch 35/50\n",
      "375/375 [==============================] - 25s 66ms/step - loss: 0.2034 - accuracy: 0.9226 - val_loss: 0.2247 - val_accuracy: 0.9202\n",
      "Epoch 36/50\n",
      "375/375 [==============================] - 22s 58ms/step - loss: 0.2022 - accuracy: 0.9240 - val_loss: 0.2235 - val_accuracy: 0.9223\n",
      "Epoch 37/50\n",
      "375/375 [==============================] - 21s 56ms/step - loss: 0.2012 - accuracy: 0.9245 - val_loss: 0.2259 - val_accuracy: 0.9212\n",
      "Epoch 38/50\n",
      "375/375 [==============================] - 23s 61ms/step - loss: 0.1987 - accuracy: 0.9241 - val_loss: 0.2192 - val_accuracy: 0.9227\n",
      "Epoch 39/50\n",
      "375/375 [==============================] - 29s 78ms/step - loss: 0.1969 - accuracy: 0.9265 - val_loss: 0.2199 - val_accuracy: 0.9220\n",
      "Epoch 40/50\n",
      "375/375 [==============================] - 23s 60ms/step - loss: 0.1934 - accuracy: 0.9266 - val_loss: 0.2250 - val_accuracy: 0.9225\n",
      "Epoch 41/50\n",
      "375/375 [==============================] - 23s 62ms/step - loss: 0.1964 - accuracy: 0.9260 - val_loss: 0.2213 - val_accuracy: 0.9221\n",
      "Epoch 42/50\n",
      "375/375 [==============================] - 23s 62ms/step - loss: 0.1967 - accuracy: 0.9262 - val_loss: 0.2247 - val_accuracy: 0.9196\n",
      "Epoch 43/50\n",
      "375/375 [==============================] - 20s 53ms/step - loss: 0.1931 - accuracy: 0.9265 - val_loss: 0.2322 - val_accuracy: 0.9200\n",
      "Epoch 44/50\n",
      "375/375 [==============================] - 25s 67ms/step - loss: 0.1918 - accuracy: 0.9272 - val_loss: 0.2266 - val_accuracy: 0.9194\n",
      "Epoch 45/50\n",
      "375/375 [==============================] - 26s 70ms/step - loss: 0.1908 - accuracy: 0.9275 - val_loss: 0.2270 - val_accuracy: 0.9192\n",
      "Epoch 46/50\n",
      "375/375 [==============================] - 28s 76ms/step - loss: 0.1933 - accuracy: 0.9261 - val_loss: 0.2207 - val_accuracy: 0.9222\n",
      "Epoch 47/50\n",
      "375/375 [==============================] - 19s 51ms/step - loss: 0.1879 - accuracy: 0.9287 - val_loss: 0.2253 - val_accuracy: 0.9223\n",
      "Epoch 48/50\n",
      "375/375 [==============================] - 19s 52ms/step - loss: 0.1885 - accuracy: 0.9291 - val_loss: 0.2219 - val_accuracy: 0.9212\n",
      "Epoch 49/50\n",
      "375/375 [==============================] - 20s 53ms/step - loss: 0.1855 - accuracy: 0.9291 - val_loss: 0.2245 - val_accuracy: 0.9213\n",
      "Epoch 50/50\n",
      "375/375 [==============================] - 25s 67ms/step - loss: 0.1878 - accuracy: 0.9293 - val_loss: 0.2333 - val_accuracy: 0.9203\n"
     ]
    }
   ],
   "source": [
    "train_model = model.fit(X_train, y_train,\n",
    "                  batch_size=BATCH_SIZE,\n",
    "                  epochs=NO_EPOCHS,\n",
    "                  verbose=1,\n",
    "                  validation_data=(X_val, y_val))"
   ]
  },
  {
   "cell_type": "markdown",
   "id": "42920f59",
   "metadata": {},
   "source": [
    "# Plotting Prediction accuracy and losses"
   ]
  },
  {
   "cell_type": "code",
   "execution_count": 81,
   "id": "93a011f1",
   "metadata": {
    "scrolled": true
   },
   "outputs": [
    {
     "name": "stderr",
     "output_type": "stream",
     "text": [
      "C:\\Users\\sathv\\anaconda3\\envs\\Tensorflow-gpu\\lib\\site-packages\\plotly\\tools.py:461: DeprecationWarning:\n",
      "\n",
      "plotly.tools.make_subplots is deprecated, please use plotly.subplots.make_subplots instead\n",
      "\n"
     ]
    },
    {
     "data": {
      "application/vnd.plotly.v1+json": {
       "config": {
        "linkText": "Export to plot.ly",
        "plotlyServerURL": "https://plot.ly",
        "showLink": false
       },
       "data": [
        {
         "marker": {
          "color": "Green"
         },
         "mode": "markers+lines",
         "name": "Training accuracy",
         "text": [
          "1",
          "2",
          "3",
          "4",
          "5",
          "6",
          "7",
          "8",
          "9",
          "10",
          "11",
          "12",
          "13",
          "14",
          "15",
          "16",
          "17",
          "18",
          "19",
          "20",
          "21",
          "22",
          "23",
          "24",
          "25",
          "26",
          "27",
          "28",
          "29",
          "30",
          "31",
          "32",
          "33",
          "34",
          "35",
          "36",
          "37",
          "38",
          "39",
          "40",
          "41",
          "42",
          "43",
          "44",
          "45",
          "46",
          "47",
          "48",
          "49",
          "50"
         ],
         "type": "scatter",
         "x": [
          1,
          2,
          3,
          4,
          5,
          6,
          7,
          8,
          9,
          10,
          11,
          12,
          13,
          14,
          15,
          16,
          17,
          18,
          19,
          20,
          21,
          22,
          23,
          24,
          25,
          26,
          27,
          28,
          29,
          30,
          31,
          32,
          33,
          34,
          35,
          36,
          37,
          38,
          39,
          40,
          41,
          42,
          43,
          44,
          45,
          46,
          47,
          48,
          49,
          50
         ],
         "xaxis": "x",
         "y": [
          0.7143958210945129,
          0.8214791417121887,
          0.8461666703224182,
          0.8615000247955322,
          0.8708750009536743,
          0.8797083497047424,
          0.8833125233650208,
          0.8856874704360962,
          0.8912500143051147,
          0.8942499756813049,
          0.8975208401679993,
          0.8996458053588867,
          0.9022083282470703,
          0.9051874876022339,
          0.9066666960716248,
          0.906541645526886,
          0.9071041941642761,
          0.9102708101272583,
          0.9123958349227905,
          0.9120625257492065,
          0.9125416874885559,
          0.913812518119812,
          0.9162916541099548,
          0.9149791598320007,
          0.9165624976158142,
          0.9177708625793457,
          0.9190833568572998,
          0.9200624823570251,
          0.9190624952316284,
          0.9208541512489319,
          0.9221875071525574,
          0.9223541617393494,
          0.922249972820282,
          0.9222916960716248,
          0.9226250052452087,
          0.9240000247955322,
          0.9244999885559082,
          0.9241250157356262,
          0.9265000224113464,
          0.926645815372467,
          0.9259999990463257,
          0.9261875152587891,
          0.9264583587646484,
          0.9271666407585144,
          0.9275416731834412,
          0.9261458516120911,
          0.9287499785423279,
          0.9291458129882812,
          0.9290833473205566,
          0.9292708039283752
         ],
         "yaxis": "y"
        },
        {
         "marker": {
          "color": "Red"
         },
         "mode": "markers+lines",
         "name": "Validation accuracy",
         "text": [
          "1",
          "2",
          "3",
          "4",
          "5",
          "6",
          "7",
          "8",
          "9",
          "10",
          "11",
          "12",
          "13",
          "14",
          "15",
          "16",
          "17",
          "18",
          "19",
          "20",
          "21",
          "22",
          "23",
          "24",
          "25",
          "26",
          "27",
          "28",
          "29",
          "30",
          "31",
          "32",
          "33",
          "34",
          "35",
          "36",
          "37",
          "38",
          "39",
          "40",
          "41",
          "42",
          "43",
          "44",
          "45",
          "46",
          "47",
          "48",
          "49",
          "50"
         ],
         "type": "scatter",
         "x": [
          1,
          2,
          3,
          4,
          5,
          6,
          7,
          8,
          9,
          10,
          11,
          12,
          13,
          14,
          15,
          16,
          17,
          18,
          19,
          20,
          21,
          22,
          23,
          24,
          25,
          26,
          27,
          28,
          29,
          30,
          31,
          32,
          33,
          34,
          35,
          36,
          37,
          38,
          39,
          40,
          41,
          42,
          43,
          44,
          45,
          46,
          47,
          48,
          49,
          50
         ],
         "xaxis": "x",
         "y": [
          0.8261666893959045,
          0.8661666512489319,
          0.8777499794960022,
          0.8869166374206543,
          0.8872500061988831,
          0.8977500200271606,
          0.8969166874885559,
          0.9019166827201843,
          0.906499981880188,
          0.9076666831970215,
          0.9099166393280029,
          0.9075000286102295,
          0.9107499718666077,
          0.9054999947547913,
          0.9127500057220459,
          0.9114999771118164,
          0.9123333096504211,
          0.9130833148956299,
          0.9148333072662354,
          0.9155833125114441,
          0.9147499799728394,
          0.9182500243186951,
          0.9143333435058594,
          0.9175833463668823,
          0.918916642665863,
          0.9194999933242798,
          0.9192500114440918,
          0.9144166707992554,
          0.9204999804496765,
          0.9225000143051147,
          0.921500027179718,
          0.9191666841506958,
          0.918749988079071,
          0.9160833358764648,
          0.9201666712760925,
          0.9223333597183228,
          0.9211666584014893,
          0.9227499961853027,
          0.921999990940094,
          0.9225000143051147,
          0.92208331823349,
          0.9195833206176758,
          0.9200000166893005,
          0.9194166660308838,
          0.9191666841506958,
          0.922166645526886,
          0.9223333597183228,
          0.9211666584014893,
          0.9213333129882812,
          0.9203333258628845
         ],
         "yaxis": "y"
        },
        {
         "marker": {
          "color": "Blue"
         },
         "mode": "markers+lines",
         "name": "Training loss",
         "text": [
          "1",
          "2",
          "3",
          "4",
          "5",
          "6",
          "7",
          "8",
          "9",
          "10",
          "11",
          "12",
          "13",
          "14",
          "15",
          "16",
          "17",
          "18",
          "19",
          "20",
          "21",
          "22",
          "23",
          "24",
          "25",
          "26",
          "27",
          "28",
          "29",
          "30",
          "31",
          "32",
          "33",
          "34",
          "35",
          "36",
          "37",
          "38",
          "39",
          "40",
          "41",
          "42",
          "43",
          "44",
          "45",
          "46",
          "47",
          "48",
          "49",
          "50"
         ],
         "type": "scatter",
         "x": [
          1,
          2,
          3,
          4,
          5,
          6,
          7,
          8,
          9,
          10,
          11,
          12,
          13,
          14,
          15,
          16,
          17,
          18,
          19,
          20,
          21,
          22,
          23,
          24,
          25,
          26,
          27,
          28,
          29,
          30,
          31,
          32,
          33,
          34,
          35,
          36,
          37,
          38,
          39,
          40,
          41,
          42,
          43,
          44,
          45,
          46,
          47,
          48,
          49,
          50
         ],
         "xaxis": "x2",
         "y": [
          0.7617483735084534,
          0.4902554452419281,
          0.41871312260627747,
          0.37859469652175903,
          0.3526952862739563,
          0.32917317748069763,
          0.31190159916877747,
          0.3076975643634796,
          0.29285484552383423,
          0.28948795795440674,
          0.27704861760139465,
          0.2698943018913269,
          0.26420968770980835,
          0.2552984654903412,
          0.2532103657722473,
          0.24903784692287445,
          0.24614474177360535,
          0.2389242947101593,
          0.23450583219528198,
          0.2340274453163147,
          0.2316742092370987,
          0.23052872717380524,
          0.22362558543682098,
          0.22334027290344238,
          0.222174271941185,
          0.21898095309734344,
          0.21666446328163147,
          0.21541143953800201,
          0.21260546147823334,
          0.20789358019828796,
          0.20720890164375305,
          0.20624741911888123,
          0.20685309171676636,
          0.20538820326328278,
          0.20340947806835175,
          0.20216748118400574,
          0.2011754810810089,
          0.19873730838298798,
          0.19691331684589386,
          0.19341222941875458,
          0.1964399665594101,
          0.19673503935337067,
          0.19305771589279175,
          0.1918119341135025,
          0.1908343881368637,
          0.19330507516860962,
          0.18792542815208435,
          0.18845584988594055,
          0.18549764156341553,
          0.18784868717193604
         ],
         "yaxis": "y2"
        },
        {
         "marker": {
          "color": "Magenta"
         },
         "mode": "markers+lines",
         "name": "Validation loss",
         "text": [
          "1",
          "2",
          "3",
          "4",
          "5",
          "6",
          "7",
          "8",
          "9",
          "10",
          "11",
          "12",
          "13",
          "14",
          "15",
          "16",
          "17",
          "18",
          "19",
          "20",
          "21",
          "22",
          "23",
          "24",
          "25",
          "26",
          "27",
          "28",
          "29",
          "30",
          "31",
          "32",
          "33",
          "34",
          "35",
          "36",
          "37",
          "38",
          "39",
          "40",
          "41",
          "42",
          "43",
          "44",
          "45",
          "46",
          "47",
          "48",
          "49",
          "50"
         ],
         "type": "scatter",
         "x": [
          1,
          2,
          3,
          4,
          5,
          6,
          7,
          8,
          9,
          10,
          11,
          12,
          13,
          14,
          15,
          16,
          17,
          18,
          19,
          20,
          21,
          22,
          23,
          24,
          25,
          26,
          27,
          28,
          29,
          30,
          31,
          32,
          33,
          34,
          35,
          36,
          37,
          38,
          39,
          40,
          41,
          42,
          43,
          44,
          45,
          46,
          47,
          48,
          49,
          50
         ],
         "xaxis": "x2",
         "y": [
          0.47659504413604736,
          0.372068852186203,
          0.3309144079685211,
          0.31493160128593445,
          0.3005470633506775,
          0.28033241629600525,
          0.2786721885204315,
          0.26624298095703125,
          0.2564028203487396,
          0.25365257263183594,
          0.24847723543643951,
          0.25560492277145386,
          0.24250616133213043,
          0.25196942687034607,
          0.24221372604370117,
          0.24230526387691498,
          0.24003811180591583,
          0.2358125001192093,
          0.23566286265850067,
          0.2314973622560501,
          0.2331540584564209,
          0.2270260602235794,
          0.23465584218502045,
          0.22911834716796875,
          0.22657187283039093,
          0.22641697525978088,
          0.22465865314006805,
          0.23667310178279877,
          0.2250492125749588,
          0.22312146425247192,
          0.21837784349918365,
          0.2288450300693512,
          0.22489456832408905,
          0.23618705570697784,
          0.2247219830751419,
          0.22349001467227936,
          0.22592590749263763,
          0.21924801170825958,
          0.21986784040927887,
          0.2249843180179596,
          0.22131803631782532,
          0.2246887981891632,
          0.23216605186462402,
          0.2266402393579483,
          0.22700175642967224,
          0.22073036432266235,
          0.22531907260417938,
          0.2219391018152237,
          0.22445015609264374,
          0.2332654893398285
         ],
         "yaxis": "y2"
        }
       ],
       "layout": {
        "annotations": [
         {
          "font": {
           "size": 16
          },
          "showarrow": false,
          "text": "Training and validation accuracy",
          "x": 0.225,
          "xanchor": "center",
          "xref": "paper",
          "y": 1,
          "yanchor": "bottom",
          "yref": "paper"
         },
         {
          "font": {
           "size": 16
          },
          "showarrow": false,
          "text": "Training and validation loss",
          "x": 0.775,
          "xanchor": "center",
          "xref": "paper",
          "y": 1,
          "yanchor": "bottom",
          "yref": "paper"
         }
        ],
        "template": {
         "data": {
          "bar": [
           {
            "error_x": {
             "color": "#2a3f5f"
            },
            "error_y": {
             "color": "#2a3f5f"
            },
            "marker": {
             "line": {
              "color": "#E5ECF6",
              "width": 0.5
             },
             "pattern": {
              "fillmode": "overlay",
              "size": 10,
              "solidity": 0.2
             }
            },
            "type": "bar"
           }
          ],
          "barpolar": [
           {
            "marker": {
             "line": {
              "color": "#E5ECF6",
              "width": 0.5
             },
             "pattern": {
              "fillmode": "overlay",
              "size": 10,
              "solidity": 0.2
             }
            },
            "type": "barpolar"
           }
          ],
          "carpet": [
           {
            "aaxis": {
             "endlinecolor": "#2a3f5f",
             "gridcolor": "white",
             "linecolor": "white",
             "minorgridcolor": "white",
             "startlinecolor": "#2a3f5f"
            },
            "baxis": {
             "endlinecolor": "#2a3f5f",
             "gridcolor": "white",
             "linecolor": "white",
             "minorgridcolor": "white",
             "startlinecolor": "#2a3f5f"
            },
            "type": "carpet"
           }
          ],
          "choropleth": [
           {
            "colorbar": {
             "outlinewidth": 0,
             "ticks": ""
            },
            "type": "choropleth"
           }
          ],
          "contour": [
           {
            "colorbar": {
             "outlinewidth": 0,
             "ticks": ""
            },
            "colorscale": [
             [
              0,
              "#0d0887"
             ],
             [
              0.1111111111111111,
              "#46039f"
             ],
             [
              0.2222222222222222,
              "#7201a8"
             ],
             [
              0.3333333333333333,
              "#9c179e"
             ],
             [
              0.4444444444444444,
              "#bd3786"
             ],
             [
              0.5555555555555556,
              "#d8576b"
             ],
             [
              0.6666666666666666,
              "#ed7953"
             ],
             [
              0.7777777777777778,
              "#fb9f3a"
             ],
             [
              0.8888888888888888,
              "#fdca26"
             ],
             [
              1,
              "#f0f921"
             ]
            ],
            "type": "contour"
           }
          ],
          "contourcarpet": [
           {
            "colorbar": {
             "outlinewidth": 0,
             "ticks": ""
            },
            "type": "contourcarpet"
           }
          ],
          "heatmap": [
           {
            "colorbar": {
             "outlinewidth": 0,
             "ticks": ""
            },
            "colorscale": [
             [
              0,
              "#0d0887"
             ],
             [
              0.1111111111111111,
              "#46039f"
             ],
             [
              0.2222222222222222,
              "#7201a8"
             ],
             [
              0.3333333333333333,
              "#9c179e"
             ],
             [
              0.4444444444444444,
              "#bd3786"
             ],
             [
              0.5555555555555556,
              "#d8576b"
             ],
             [
              0.6666666666666666,
              "#ed7953"
             ],
             [
              0.7777777777777778,
              "#fb9f3a"
             ],
             [
              0.8888888888888888,
              "#fdca26"
             ],
             [
              1,
              "#f0f921"
             ]
            ],
            "type": "heatmap"
           }
          ],
          "heatmapgl": [
           {
            "colorbar": {
             "outlinewidth": 0,
             "ticks": ""
            },
            "colorscale": [
             [
              0,
              "#0d0887"
             ],
             [
              0.1111111111111111,
              "#46039f"
             ],
             [
              0.2222222222222222,
              "#7201a8"
             ],
             [
              0.3333333333333333,
              "#9c179e"
             ],
             [
              0.4444444444444444,
              "#bd3786"
             ],
             [
              0.5555555555555556,
              "#d8576b"
             ],
             [
              0.6666666666666666,
              "#ed7953"
             ],
             [
              0.7777777777777778,
              "#fb9f3a"
             ],
             [
              0.8888888888888888,
              "#fdca26"
             ],
             [
              1,
              "#f0f921"
             ]
            ],
            "type": "heatmapgl"
           }
          ],
          "histogram": [
           {
            "marker": {
             "pattern": {
              "fillmode": "overlay",
              "size": 10,
              "solidity": 0.2
             }
            },
            "type": "histogram"
           }
          ],
          "histogram2d": [
           {
            "colorbar": {
             "outlinewidth": 0,
             "ticks": ""
            },
            "colorscale": [
             [
              0,
              "#0d0887"
             ],
             [
              0.1111111111111111,
              "#46039f"
             ],
             [
              0.2222222222222222,
              "#7201a8"
             ],
             [
              0.3333333333333333,
              "#9c179e"
             ],
             [
              0.4444444444444444,
              "#bd3786"
             ],
             [
              0.5555555555555556,
              "#d8576b"
             ],
             [
              0.6666666666666666,
              "#ed7953"
             ],
             [
              0.7777777777777778,
              "#fb9f3a"
             ],
             [
              0.8888888888888888,
              "#fdca26"
             ],
             [
              1,
              "#f0f921"
             ]
            ],
            "type": "histogram2d"
           }
          ],
          "histogram2dcontour": [
           {
            "colorbar": {
             "outlinewidth": 0,
             "ticks": ""
            },
            "colorscale": [
             [
              0,
              "#0d0887"
             ],
             [
              0.1111111111111111,
              "#46039f"
             ],
             [
              0.2222222222222222,
              "#7201a8"
             ],
             [
              0.3333333333333333,
              "#9c179e"
             ],
             [
              0.4444444444444444,
              "#bd3786"
             ],
             [
              0.5555555555555556,
              "#d8576b"
             ],
             [
              0.6666666666666666,
              "#ed7953"
             ],
             [
              0.7777777777777778,
              "#fb9f3a"
             ],
             [
              0.8888888888888888,
              "#fdca26"
             ],
             [
              1,
              "#f0f921"
             ]
            ],
            "type": "histogram2dcontour"
           }
          ],
          "mesh3d": [
           {
            "colorbar": {
             "outlinewidth": 0,
             "ticks": ""
            },
            "type": "mesh3d"
           }
          ],
          "parcoords": [
           {
            "line": {
             "colorbar": {
              "outlinewidth": 0,
              "ticks": ""
             }
            },
            "type": "parcoords"
           }
          ],
          "pie": [
           {
            "automargin": true,
            "type": "pie"
           }
          ],
          "scatter": [
           {
            "marker": {
             "colorbar": {
              "outlinewidth": 0,
              "ticks": ""
             }
            },
            "type": "scatter"
           }
          ],
          "scatter3d": [
           {
            "line": {
             "colorbar": {
              "outlinewidth": 0,
              "ticks": ""
             }
            },
            "marker": {
             "colorbar": {
              "outlinewidth": 0,
              "ticks": ""
             }
            },
            "type": "scatter3d"
           }
          ],
          "scattercarpet": [
           {
            "marker": {
             "colorbar": {
              "outlinewidth": 0,
              "ticks": ""
             }
            },
            "type": "scattercarpet"
           }
          ],
          "scattergeo": [
           {
            "marker": {
             "colorbar": {
              "outlinewidth": 0,
              "ticks": ""
             }
            },
            "type": "scattergeo"
           }
          ],
          "scattergl": [
           {
            "marker": {
             "colorbar": {
              "outlinewidth": 0,
              "ticks": ""
             }
            },
            "type": "scattergl"
           }
          ],
          "scattermapbox": [
           {
            "marker": {
             "colorbar": {
              "outlinewidth": 0,
              "ticks": ""
             }
            },
            "type": "scattermapbox"
           }
          ],
          "scatterpolar": [
           {
            "marker": {
             "colorbar": {
              "outlinewidth": 0,
              "ticks": ""
             }
            },
            "type": "scatterpolar"
           }
          ],
          "scatterpolargl": [
           {
            "marker": {
             "colorbar": {
              "outlinewidth": 0,
              "ticks": ""
             }
            },
            "type": "scatterpolargl"
           }
          ],
          "scatterternary": [
           {
            "marker": {
             "colorbar": {
              "outlinewidth": 0,
              "ticks": ""
             }
            },
            "type": "scatterternary"
           }
          ],
          "surface": [
           {
            "colorbar": {
             "outlinewidth": 0,
             "ticks": ""
            },
            "colorscale": [
             [
              0,
              "#0d0887"
             ],
             [
              0.1111111111111111,
              "#46039f"
             ],
             [
              0.2222222222222222,
              "#7201a8"
             ],
             [
              0.3333333333333333,
              "#9c179e"
             ],
             [
              0.4444444444444444,
              "#bd3786"
             ],
             [
              0.5555555555555556,
              "#d8576b"
             ],
             [
              0.6666666666666666,
              "#ed7953"
             ],
             [
              0.7777777777777778,
              "#fb9f3a"
             ],
             [
              0.8888888888888888,
              "#fdca26"
             ],
             [
              1,
              "#f0f921"
             ]
            ],
            "type": "surface"
           }
          ],
          "table": [
           {
            "cells": {
             "fill": {
              "color": "#EBF0F8"
             },
             "line": {
              "color": "white"
             }
            },
            "header": {
             "fill": {
              "color": "#C8D4E3"
             },
             "line": {
              "color": "white"
             }
            },
            "type": "table"
           }
          ]
         },
         "layout": {
          "annotationdefaults": {
           "arrowcolor": "#2a3f5f",
           "arrowhead": 0,
           "arrowwidth": 1
          },
          "autotypenumbers": "strict",
          "coloraxis": {
           "colorbar": {
            "outlinewidth": 0,
            "ticks": ""
           }
          },
          "colorscale": {
           "diverging": [
            [
             0,
             "#8e0152"
            ],
            [
             0.1,
             "#c51b7d"
            ],
            [
             0.2,
             "#de77ae"
            ],
            [
             0.3,
             "#f1b6da"
            ],
            [
             0.4,
             "#fde0ef"
            ],
            [
             0.5,
             "#f7f7f7"
            ],
            [
             0.6,
             "#e6f5d0"
            ],
            [
             0.7,
             "#b8e186"
            ],
            [
             0.8,
             "#7fbc41"
            ],
            [
             0.9,
             "#4d9221"
            ],
            [
             1,
             "#276419"
            ]
           ],
           "sequential": [
            [
             0,
             "#0d0887"
            ],
            [
             0.1111111111111111,
             "#46039f"
            ],
            [
             0.2222222222222222,
             "#7201a8"
            ],
            [
             0.3333333333333333,
             "#9c179e"
            ],
            [
             0.4444444444444444,
             "#bd3786"
            ],
            [
             0.5555555555555556,
             "#d8576b"
            ],
            [
             0.6666666666666666,
             "#ed7953"
            ],
            [
             0.7777777777777778,
             "#fb9f3a"
            ],
            [
             0.8888888888888888,
             "#fdca26"
            ],
            [
             1,
             "#f0f921"
            ]
           ],
           "sequentialminus": [
            [
             0,
             "#0d0887"
            ],
            [
             0.1111111111111111,
             "#46039f"
            ],
            [
             0.2222222222222222,
             "#7201a8"
            ],
            [
             0.3333333333333333,
             "#9c179e"
            ],
            [
             0.4444444444444444,
             "#bd3786"
            ],
            [
             0.5555555555555556,
             "#d8576b"
            ],
            [
             0.6666666666666666,
             "#ed7953"
            ],
            [
             0.7777777777777778,
             "#fb9f3a"
            ],
            [
             0.8888888888888888,
             "#fdca26"
            ],
            [
             1,
             "#f0f921"
            ]
           ]
          },
          "colorway": [
           "#636efa",
           "#EF553B",
           "#00cc96",
           "#ab63fa",
           "#FFA15A",
           "#19d3f3",
           "#FF6692",
           "#B6E880",
           "#FF97FF",
           "#FECB52"
          ],
          "font": {
           "color": "#2a3f5f"
          },
          "geo": {
           "bgcolor": "white",
           "lakecolor": "white",
           "landcolor": "#E5ECF6",
           "showlakes": true,
           "showland": true,
           "subunitcolor": "white"
          },
          "hoverlabel": {
           "align": "left"
          },
          "hovermode": "closest",
          "mapbox": {
           "style": "light"
          },
          "paper_bgcolor": "white",
          "plot_bgcolor": "#E5ECF6",
          "polar": {
           "angularaxis": {
            "gridcolor": "white",
            "linecolor": "white",
            "ticks": ""
           },
           "bgcolor": "#E5ECF6",
           "radialaxis": {
            "gridcolor": "white",
            "linecolor": "white",
            "ticks": ""
           }
          },
          "scene": {
           "xaxis": {
            "backgroundcolor": "#E5ECF6",
            "gridcolor": "white",
            "gridwidth": 2,
            "linecolor": "white",
            "showbackground": true,
            "ticks": "",
            "zerolinecolor": "white"
           },
           "yaxis": {
            "backgroundcolor": "#E5ECF6",
            "gridcolor": "white",
            "gridwidth": 2,
            "linecolor": "white",
            "showbackground": true,
            "ticks": "",
            "zerolinecolor": "white"
           },
           "zaxis": {
            "backgroundcolor": "#E5ECF6",
            "gridcolor": "white",
            "gridwidth": 2,
            "linecolor": "white",
            "showbackground": true,
            "ticks": "",
            "zerolinecolor": "white"
           }
          },
          "shapedefaults": {
           "line": {
            "color": "#2a3f5f"
           }
          },
          "ternary": {
           "aaxis": {
            "gridcolor": "white",
            "linecolor": "white",
            "ticks": ""
           },
           "baxis": {
            "gridcolor": "white",
            "linecolor": "white",
            "ticks": ""
           },
           "bgcolor": "#E5ECF6",
           "caxis": {
            "gridcolor": "white",
            "linecolor": "white",
            "ticks": ""
           }
          },
          "title": {
           "x": 0.05
          },
          "xaxis": {
           "automargin": true,
           "gridcolor": "white",
           "linecolor": "white",
           "ticks": "",
           "title": {
            "standoff": 15
           },
           "zerolinecolor": "white",
           "zerolinewidth": 2
          },
          "yaxis": {
           "automargin": true,
           "gridcolor": "white",
           "linecolor": "white",
           "ticks": "",
           "title": {
            "standoff": 15
           },
           "zerolinecolor": "white",
           "zerolinewidth": 2
          }
         }
        },
        "xaxis": {
         "anchor": "y",
         "domain": [
          0,
          0.45
         ],
         "title": {
          "text": "Epoch"
         }
        },
        "xaxis2": {
         "anchor": "y2",
         "domain": [
          0.55,
          1
         ],
         "title": {
          "text": "Epoch"
         }
        },
        "yaxis": {
         "anchor": "x",
         "domain": [
          0,
          1
         ],
         "range": [
          0,
          1
         ],
         "title": {
          "text": "Accuracy"
         }
        },
        "yaxis2": {
         "anchor": "x2",
         "domain": [
          0,
          1
         ],
         "range": [
          0,
          1
         ],
         "title": {
          "text": "Loss"
         }
        }
       }
      },
      "text/html": [
       "<div>                            <div id=\"88f704ef-1745-458d-9c53-d369601671fa\" class=\"plotly-graph-div\" style=\"height:525px; width:100%;\"></div>            <script type=\"text/javascript\">                require([\"plotly\"], function(Plotly) {                    window.PLOTLYENV=window.PLOTLYENV || {};                                    if (document.getElementById(\"88f704ef-1745-458d-9c53-d369601671fa\")) {                    Plotly.newPlot(                        \"88f704ef-1745-458d-9c53-d369601671fa\",                        [{\"marker\":{\"color\":\"Green\"},\"mode\":\"markers+lines\",\"name\":\"Training accuracy\",\"text\":[\"1\",\"2\",\"3\",\"4\",\"5\",\"6\",\"7\",\"8\",\"9\",\"10\",\"11\",\"12\",\"13\",\"14\",\"15\",\"16\",\"17\",\"18\",\"19\",\"20\",\"21\",\"22\",\"23\",\"24\",\"25\",\"26\",\"27\",\"28\",\"29\",\"30\",\"31\",\"32\",\"33\",\"34\",\"35\",\"36\",\"37\",\"38\",\"39\",\"40\",\"41\",\"42\",\"43\",\"44\",\"45\",\"46\",\"47\",\"48\",\"49\",\"50\"],\"type\":\"scatter\",\"x\":[1,2,3,4,5,6,7,8,9,10,11,12,13,14,15,16,17,18,19,20,21,22,23,24,25,26,27,28,29,30,31,32,33,34,35,36,37,38,39,40,41,42,43,44,45,46,47,48,49,50],\"xaxis\":\"x\",\"y\":[0.7143958210945129,0.8214791417121887,0.8461666703224182,0.8615000247955322,0.8708750009536743,0.8797083497047424,0.8833125233650208,0.8856874704360962,0.8912500143051147,0.8942499756813049,0.8975208401679993,0.8996458053588867,0.9022083282470703,0.9051874876022339,0.9066666960716248,0.906541645526886,0.9071041941642761,0.9102708101272583,0.9123958349227905,0.9120625257492065,0.9125416874885559,0.913812518119812,0.9162916541099548,0.9149791598320007,0.9165624976158142,0.9177708625793457,0.9190833568572998,0.9200624823570251,0.9190624952316284,0.9208541512489319,0.9221875071525574,0.9223541617393494,0.922249972820282,0.9222916960716248,0.9226250052452087,0.9240000247955322,0.9244999885559082,0.9241250157356262,0.9265000224113464,0.926645815372467,0.9259999990463257,0.9261875152587891,0.9264583587646484,0.9271666407585144,0.9275416731834412,0.9261458516120911,0.9287499785423279,0.9291458129882812,0.9290833473205566,0.9292708039283752],\"yaxis\":\"y\"},{\"marker\":{\"color\":\"Red\"},\"mode\":\"markers+lines\",\"name\":\"Validation accuracy\",\"text\":[\"1\",\"2\",\"3\",\"4\",\"5\",\"6\",\"7\",\"8\",\"9\",\"10\",\"11\",\"12\",\"13\",\"14\",\"15\",\"16\",\"17\",\"18\",\"19\",\"20\",\"21\",\"22\",\"23\",\"24\",\"25\",\"26\",\"27\",\"28\",\"29\",\"30\",\"31\",\"32\",\"33\",\"34\",\"35\",\"36\",\"37\",\"38\",\"39\",\"40\",\"41\",\"42\",\"43\",\"44\",\"45\",\"46\",\"47\",\"48\",\"49\",\"50\"],\"type\":\"scatter\",\"x\":[1,2,3,4,5,6,7,8,9,10,11,12,13,14,15,16,17,18,19,20,21,22,23,24,25,26,27,28,29,30,31,32,33,34,35,36,37,38,39,40,41,42,43,44,45,46,47,48,49,50],\"xaxis\":\"x\",\"y\":[0.8261666893959045,0.8661666512489319,0.8777499794960022,0.8869166374206543,0.8872500061988831,0.8977500200271606,0.8969166874885559,0.9019166827201843,0.906499981880188,0.9076666831970215,0.9099166393280029,0.9075000286102295,0.9107499718666077,0.9054999947547913,0.9127500057220459,0.9114999771118164,0.9123333096504211,0.9130833148956299,0.9148333072662354,0.9155833125114441,0.9147499799728394,0.9182500243186951,0.9143333435058594,0.9175833463668823,0.918916642665863,0.9194999933242798,0.9192500114440918,0.9144166707992554,0.9204999804496765,0.9225000143051147,0.921500027179718,0.9191666841506958,0.918749988079071,0.9160833358764648,0.9201666712760925,0.9223333597183228,0.9211666584014893,0.9227499961853027,0.921999990940094,0.9225000143051147,0.92208331823349,0.9195833206176758,0.9200000166893005,0.9194166660308838,0.9191666841506958,0.922166645526886,0.9223333597183228,0.9211666584014893,0.9213333129882812,0.9203333258628845],\"yaxis\":\"y\"},{\"marker\":{\"color\":\"Blue\"},\"mode\":\"markers+lines\",\"name\":\"Training loss\",\"text\":[\"1\",\"2\",\"3\",\"4\",\"5\",\"6\",\"7\",\"8\",\"9\",\"10\",\"11\",\"12\",\"13\",\"14\",\"15\",\"16\",\"17\",\"18\",\"19\",\"20\",\"21\",\"22\",\"23\",\"24\",\"25\",\"26\",\"27\",\"28\",\"29\",\"30\",\"31\",\"32\",\"33\",\"34\",\"35\",\"36\",\"37\",\"38\",\"39\",\"40\",\"41\",\"42\",\"43\",\"44\",\"45\",\"46\",\"47\",\"48\",\"49\",\"50\"],\"type\":\"scatter\",\"x\":[1,2,3,4,5,6,7,8,9,10,11,12,13,14,15,16,17,18,19,20,21,22,23,24,25,26,27,28,29,30,31,32,33,34,35,36,37,38,39,40,41,42,43,44,45,46,47,48,49,50],\"xaxis\":\"x2\",\"y\":[0.7617483735084534,0.4902554452419281,0.41871312260627747,0.37859469652175903,0.3526952862739563,0.32917317748069763,0.31190159916877747,0.3076975643634796,0.29285484552383423,0.28948795795440674,0.27704861760139465,0.2698943018913269,0.26420968770980835,0.2552984654903412,0.2532103657722473,0.24903784692287445,0.24614474177360535,0.2389242947101593,0.23450583219528198,0.2340274453163147,0.2316742092370987,0.23052872717380524,0.22362558543682098,0.22334027290344238,0.222174271941185,0.21898095309734344,0.21666446328163147,0.21541143953800201,0.21260546147823334,0.20789358019828796,0.20720890164375305,0.20624741911888123,0.20685309171676636,0.20538820326328278,0.20340947806835175,0.20216748118400574,0.2011754810810089,0.19873730838298798,0.19691331684589386,0.19341222941875458,0.1964399665594101,0.19673503935337067,0.19305771589279175,0.1918119341135025,0.1908343881368637,0.19330507516860962,0.18792542815208435,0.18845584988594055,0.18549764156341553,0.18784868717193604],\"yaxis\":\"y2\"},{\"marker\":{\"color\":\"Magenta\"},\"mode\":\"markers+lines\",\"name\":\"Validation loss\",\"text\":[\"1\",\"2\",\"3\",\"4\",\"5\",\"6\",\"7\",\"8\",\"9\",\"10\",\"11\",\"12\",\"13\",\"14\",\"15\",\"16\",\"17\",\"18\",\"19\",\"20\",\"21\",\"22\",\"23\",\"24\",\"25\",\"26\",\"27\",\"28\",\"29\",\"30\",\"31\",\"32\",\"33\",\"34\",\"35\",\"36\",\"37\",\"38\",\"39\",\"40\",\"41\",\"42\",\"43\",\"44\",\"45\",\"46\",\"47\",\"48\",\"49\",\"50\"],\"type\":\"scatter\",\"x\":[1,2,3,4,5,6,7,8,9,10,11,12,13,14,15,16,17,18,19,20,21,22,23,24,25,26,27,28,29,30,31,32,33,34,35,36,37,38,39,40,41,42,43,44,45,46,47,48,49,50],\"xaxis\":\"x2\",\"y\":[0.47659504413604736,0.372068852186203,0.3309144079685211,0.31493160128593445,0.3005470633506775,0.28033241629600525,0.2786721885204315,0.26624298095703125,0.2564028203487396,0.25365257263183594,0.24847723543643951,0.25560492277145386,0.24250616133213043,0.25196942687034607,0.24221372604370117,0.24230526387691498,0.24003811180591583,0.2358125001192093,0.23566286265850067,0.2314973622560501,0.2331540584564209,0.2270260602235794,0.23465584218502045,0.22911834716796875,0.22657187283039093,0.22641697525978088,0.22465865314006805,0.23667310178279877,0.2250492125749588,0.22312146425247192,0.21837784349918365,0.2288450300693512,0.22489456832408905,0.23618705570697784,0.2247219830751419,0.22349001467227936,0.22592590749263763,0.21924801170825958,0.21986784040927887,0.2249843180179596,0.22131803631782532,0.2246887981891632,0.23216605186462402,0.2266402393579483,0.22700175642967224,0.22073036432266235,0.22531907260417938,0.2219391018152237,0.22445015609264374,0.2332654893398285],\"yaxis\":\"y2\"}],                        {\"annotations\":[{\"font\":{\"size\":16},\"showarrow\":false,\"text\":\"Training and validation accuracy\",\"x\":0.225,\"xanchor\":\"center\",\"xref\":\"paper\",\"y\":1.0,\"yanchor\":\"bottom\",\"yref\":\"paper\"},{\"font\":{\"size\":16},\"showarrow\":false,\"text\":\"Training and validation loss\",\"x\":0.775,\"xanchor\":\"center\",\"xref\":\"paper\",\"y\":1.0,\"yanchor\":\"bottom\",\"yref\":\"paper\"}],\"template\":{\"data\":{\"bar\":[{\"error_x\":{\"color\":\"#2a3f5f\"},\"error_y\":{\"color\":\"#2a3f5f\"},\"marker\":{\"line\":{\"color\":\"#E5ECF6\",\"width\":0.5},\"pattern\":{\"fillmode\":\"overlay\",\"size\":10,\"solidity\":0.2}},\"type\":\"bar\"}],\"barpolar\":[{\"marker\":{\"line\":{\"color\":\"#E5ECF6\",\"width\":0.5},\"pattern\":{\"fillmode\":\"overlay\",\"size\":10,\"solidity\":0.2}},\"type\":\"barpolar\"}],\"carpet\":[{\"aaxis\":{\"endlinecolor\":\"#2a3f5f\",\"gridcolor\":\"white\",\"linecolor\":\"white\",\"minorgridcolor\":\"white\",\"startlinecolor\":\"#2a3f5f\"},\"baxis\":{\"endlinecolor\":\"#2a3f5f\",\"gridcolor\":\"white\",\"linecolor\":\"white\",\"minorgridcolor\":\"white\",\"startlinecolor\":\"#2a3f5f\"},\"type\":\"carpet\"}],\"choropleth\":[{\"colorbar\":{\"outlinewidth\":0,\"ticks\":\"\"},\"type\":\"choropleth\"}],\"contour\":[{\"colorbar\":{\"outlinewidth\":0,\"ticks\":\"\"},\"colorscale\":[[0.0,\"#0d0887\"],[0.1111111111111111,\"#46039f\"],[0.2222222222222222,\"#7201a8\"],[0.3333333333333333,\"#9c179e\"],[0.4444444444444444,\"#bd3786\"],[0.5555555555555556,\"#d8576b\"],[0.6666666666666666,\"#ed7953\"],[0.7777777777777778,\"#fb9f3a\"],[0.8888888888888888,\"#fdca26\"],[1.0,\"#f0f921\"]],\"type\":\"contour\"}],\"contourcarpet\":[{\"colorbar\":{\"outlinewidth\":0,\"ticks\":\"\"},\"type\":\"contourcarpet\"}],\"heatmap\":[{\"colorbar\":{\"outlinewidth\":0,\"ticks\":\"\"},\"colorscale\":[[0.0,\"#0d0887\"],[0.1111111111111111,\"#46039f\"],[0.2222222222222222,\"#7201a8\"],[0.3333333333333333,\"#9c179e\"],[0.4444444444444444,\"#bd3786\"],[0.5555555555555556,\"#d8576b\"],[0.6666666666666666,\"#ed7953\"],[0.7777777777777778,\"#fb9f3a\"],[0.8888888888888888,\"#fdca26\"],[1.0,\"#f0f921\"]],\"type\":\"heatmap\"}],\"heatmapgl\":[{\"colorbar\":{\"outlinewidth\":0,\"ticks\":\"\"},\"colorscale\":[[0.0,\"#0d0887\"],[0.1111111111111111,\"#46039f\"],[0.2222222222222222,\"#7201a8\"],[0.3333333333333333,\"#9c179e\"],[0.4444444444444444,\"#bd3786\"],[0.5555555555555556,\"#d8576b\"],[0.6666666666666666,\"#ed7953\"],[0.7777777777777778,\"#fb9f3a\"],[0.8888888888888888,\"#fdca26\"],[1.0,\"#f0f921\"]],\"type\":\"heatmapgl\"}],\"histogram\":[{\"marker\":{\"pattern\":{\"fillmode\":\"overlay\",\"size\":10,\"solidity\":0.2}},\"type\":\"histogram\"}],\"histogram2d\":[{\"colorbar\":{\"outlinewidth\":0,\"ticks\":\"\"},\"colorscale\":[[0.0,\"#0d0887\"],[0.1111111111111111,\"#46039f\"],[0.2222222222222222,\"#7201a8\"],[0.3333333333333333,\"#9c179e\"],[0.4444444444444444,\"#bd3786\"],[0.5555555555555556,\"#d8576b\"],[0.6666666666666666,\"#ed7953\"],[0.7777777777777778,\"#fb9f3a\"],[0.8888888888888888,\"#fdca26\"],[1.0,\"#f0f921\"]],\"type\":\"histogram2d\"}],\"histogram2dcontour\":[{\"colorbar\":{\"outlinewidth\":0,\"ticks\":\"\"},\"colorscale\":[[0.0,\"#0d0887\"],[0.1111111111111111,\"#46039f\"],[0.2222222222222222,\"#7201a8\"],[0.3333333333333333,\"#9c179e\"],[0.4444444444444444,\"#bd3786\"],[0.5555555555555556,\"#d8576b\"],[0.6666666666666666,\"#ed7953\"],[0.7777777777777778,\"#fb9f3a\"],[0.8888888888888888,\"#fdca26\"],[1.0,\"#f0f921\"]],\"type\":\"histogram2dcontour\"}],\"mesh3d\":[{\"colorbar\":{\"outlinewidth\":0,\"ticks\":\"\"},\"type\":\"mesh3d\"}],\"parcoords\":[{\"line\":{\"colorbar\":{\"outlinewidth\":0,\"ticks\":\"\"}},\"type\":\"parcoords\"}],\"pie\":[{\"automargin\":true,\"type\":\"pie\"}],\"scatter\":[{\"marker\":{\"colorbar\":{\"outlinewidth\":0,\"ticks\":\"\"}},\"type\":\"scatter\"}],\"scatter3d\":[{\"line\":{\"colorbar\":{\"outlinewidth\":0,\"ticks\":\"\"}},\"marker\":{\"colorbar\":{\"outlinewidth\":0,\"ticks\":\"\"}},\"type\":\"scatter3d\"}],\"scattercarpet\":[{\"marker\":{\"colorbar\":{\"outlinewidth\":0,\"ticks\":\"\"}},\"type\":\"scattercarpet\"}],\"scattergeo\":[{\"marker\":{\"colorbar\":{\"outlinewidth\":0,\"ticks\":\"\"}},\"type\":\"scattergeo\"}],\"scattergl\":[{\"marker\":{\"colorbar\":{\"outlinewidth\":0,\"ticks\":\"\"}},\"type\":\"scattergl\"}],\"scattermapbox\":[{\"marker\":{\"colorbar\":{\"outlinewidth\":0,\"ticks\":\"\"}},\"type\":\"scattermapbox\"}],\"scatterpolar\":[{\"marker\":{\"colorbar\":{\"outlinewidth\":0,\"ticks\":\"\"}},\"type\":\"scatterpolar\"}],\"scatterpolargl\":[{\"marker\":{\"colorbar\":{\"outlinewidth\":0,\"ticks\":\"\"}},\"type\":\"scatterpolargl\"}],\"scatterternary\":[{\"marker\":{\"colorbar\":{\"outlinewidth\":0,\"ticks\":\"\"}},\"type\":\"scatterternary\"}],\"surface\":[{\"colorbar\":{\"outlinewidth\":0,\"ticks\":\"\"},\"colorscale\":[[0.0,\"#0d0887\"],[0.1111111111111111,\"#46039f\"],[0.2222222222222222,\"#7201a8\"],[0.3333333333333333,\"#9c179e\"],[0.4444444444444444,\"#bd3786\"],[0.5555555555555556,\"#d8576b\"],[0.6666666666666666,\"#ed7953\"],[0.7777777777777778,\"#fb9f3a\"],[0.8888888888888888,\"#fdca26\"],[1.0,\"#f0f921\"]],\"type\":\"surface\"}],\"table\":[{\"cells\":{\"fill\":{\"color\":\"#EBF0F8\"},\"line\":{\"color\":\"white\"}},\"header\":{\"fill\":{\"color\":\"#C8D4E3\"},\"line\":{\"color\":\"white\"}},\"type\":\"table\"}]},\"layout\":{\"annotationdefaults\":{\"arrowcolor\":\"#2a3f5f\",\"arrowhead\":0,\"arrowwidth\":1},\"autotypenumbers\":\"strict\",\"coloraxis\":{\"colorbar\":{\"outlinewidth\":0,\"ticks\":\"\"}},\"colorscale\":{\"diverging\":[[0,\"#8e0152\"],[0.1,\"#c51b7d\"],[0.2,\"#de77ae\"],[0.3,\"#f1b6da\"],[0.4,\"#fde0ef\"],[0.5,\"#f7f7f7\"],[0.6,\"#e6f5d0\"],[0.7,\"#b8e186\"],[0.8,\"#7fbc41\"],[0.9,\"#4d9221\"],[1,\"#276419\"]],\"sequential\":[[0.0,\"#0d0887\"],[0.1111111111111111,\"#46039f\"],[0.2222222222222222,\"#7201a8\"],[0.3333333333333333,\"#9c179e\"],[0.4444444444444444,\"#bd3786\"],[0.5555555555555556,\"#d8576b\"],[0.6666666666666666,\"#ed7953\"],[0.7777777777777778,\"#fb9f3a\"],[0.8888888888888888,\"#fdca26\"],[1.0,\"#f0f921\"]],\"sequentialminus\":[[0.0,\"#0d0887\"],[0.1111111111111111,\"#46039f\"],[0.2222222222222222,\"#7201a8\"],[0.3333333333333333,\"#9c179e\"],[0.4444444444444444,\"#bd3786\"],[0.5555555555555556,\"#d8576b\"],[0.6666666666666666,\"#ed7953\"],[0.7777777777777778,\"#fb9f3a\"],[0.8888888888888888,\"#fdca26\"],[1.0,\"#f0f921\"]]},\"colorway\":[\"#636efa\",\"#EF553B\",\"#00cc96\",\"#ab63fa\",\"#FFA15A\",\"#19d3f3\",\"#FF6692\",\"#B6E880\",\"#FF97FF\",\"#FECB52\"],\"font\":{\"color\":\"#2a3f5f\"},\"geo\":{\"bgcolor\":\"white\",\"lakecolor\":\"white\",\"landcolor\":\"#E5ECF6\",\"showlakes\":true,\"showland\":true,\"subunitcolor\":\"white\"},\"hoverlabel\":{\"align\":\"left\"},\"hovermode\":\"closest\",\"mapbox\":{\"style\":\"light\"},\"paper_bgcolor\":\"white\",\"plot_bgcolor\":\"#E5ECF6\",\"polar\":{\"angularaxis\":{\"gridcolor\":\"white\",\"linecolor\":\"white\",\"ticks\":\"\"},\"bgcolor\":\"#E5ECF6\",\"radialaxis\":{\"gridcolor\":\"white\",\"linecolor\":\"white\",\"ticks\":\"\"}},\"scene\":{\"xaxis\":{\"backgroundcolor\":\"#E5ECF6\",\"gridcolor\":\"white\",\"gridwidth\":2,\"linecolor\":\"white\",\"showbackground\":true,\"ticks\":\"\",\"zerolinecolor\":\"white\"},\"yaxis\":{\"backgroundcolor\":\"#E5ECF6\",\"gridcolor\":\"white\",\"gridwidth\":2,\"linecolor\":\"white\",\"showbackground\":true,\"ticks\":\"\",\"zerolinecolor\":\"white\"},\"zaxis\":{\"backgroundcolor\":\"#E5ECF6\",\"gridcolor\":\"white\",\"gridwidth\":2,\"linecolor\":\"white\",\"showbackground\":true,\"ticks\":\"\",\"zerolinecolor\":\"white\"}},\"shapedefaults\":{\"line\":{\"color\":\"#2a3f5f\"}},\"ternary\":{\"aaxis\":{\"gridcolor\":\"white\",\"linecolor\":\"white\",\"ticks\":\"\"},\"baxis\":{\"gridcolor\":\"white\",\"linecolor\":\"white\",\"ticks\":\"\"},\"bgcolor\":\"#E5ECF6\",\"caxis\":{\"gridcolor\":\"white\",\"linecolor\":\"white\",\"ticks\":\"\"}},\"title\":{\"x\":0.05},\"xaxis\":{\"automargin\":true,\"gridcolor\":\"white\",\"linecolor\":\"white\",\"ticks\":\"\",\"title\":{\"standoff\":15},\"zerolinecolor\":\"white\",\"zerolinewidth\":2},\"yaxis\":{\"automargin\":true,\"gridcolor\":\"white\",\"linecolor\":\"white\",\"ticks\":\"\",\"title\":{\"standoff\":15},\"zerolinecolor\":\"white\",\"zerolinewidth\":2}}},\"xaxis\":{\"anchor\":\"y\",\"domain\":[0.0,0.45],\"title\":{\"text\":\"Epoch\"}},\"xaxis2\":{\"anchor\":\"y2\",\"domain\":[0.55,1.0],\"title\":{\"text\":\"Epoch\"}},\"yaxis\":{\"anchor\":\"x\",\"domain\":[0.0,1.0],\"range\":[0,1],\"title\":{\"text\":\"Accuracy\"}},\"yaxis2\":{\"anchor\":\"x2\",\"domain\":[0.0,1.0],\"range\":[0,1],\"title\":{\"text\":\"Loss\"}}},                        {\"responsive\": true}                    ).then(function(){\n",
       "                            \n",
       "var gd = document.getElementById('88f704ef-1745-458d-9c53-d369601671fa');\n",
       "var x = new MutationObserver(function (mutations, observer) {{\n",
       "        var display = window.getComputedStyle(gd).display;\n",
       "        if (!display || display === 'none') {{\n",
       "            console.log([gd, 'removed!']);\n",
       "            Plotly.purge(gd);\n",
       "            observer.disconnect();\n",
       "        }}\n",
       "}});\n",
       "\n",
       "// Listen for the removal of the full notebook cells\n",
       "var notebookContainer = gd.closest('#notebook-container');\n",
       "if (notebookContainer) {{\n",
       "    x.observe(notebookContainer, {childList: true});\n",
       "}}\n",
       "\n",
       "// Listen for the clearing of the current output cell\n",
       "var outputEl = gd.closest('.output');\n",
       "if (outputEl) {{\n",
       "    x.observe(outputEl, {childList: true});\n",
       "}}\n",
       "\n",
       "                        })                };                });            </script>        </div>"
      ]
     },
     "metadata": {},
     "output_type": "display_data"
    }
   ],
   "source": [
    "def create_trace(x,y,ylabel,color):\n",
    "        trace = go.Scatter(\n",
    "            x = x,y = y,\n",
    "            name=ylabel,\n",
    "            marker=dict(color=color),\n",
    "            mode = \"markers+lines\",\n",
    "            text=x\n",
    "        )\n",
    "        return trace\n",
    "    \n",
    "def plot_accuracy_and_loss(train_model):\n",
    "    hist = train_model.history\n",
    "    acc = hist['accuracy']\n",
    "    val_acc = hist['val_accuracy']\n",
    "    loss = hist['loss']\n",
    "    val_loss = hist['val_loss']\n",
    "    epochs = list(range(1,len(acc)+1))\n",
    "    \n",
    "    trace_ta = create_trace(epochs,acc,\"Training accuracy\", \"Green\")\n",
    "    trace_va = create_trace(epochs,val_acc,\"Validation accuracy\", \"Red\")\n",
    "    trace_tl = create_trace(epochs,loss,\"Training loss\", \"Blue\")\n",
    "    trace_vl = create_trace(epochs,val_loss,\"Validation loss\", \"Magenta\")\n",
    "   \n",
    "    fig = tools.make_subplots(rows=1,cols=2, subplot_titles=('Training and validation accuracy',\n",
    "                                                             'Training and validation loss'))\n",
    "    fig.append_trace(trace_ta,1,1)\n",
    "    fig.append_trace(trace_va,1,1)\n",
    "    fig.append_trace(trace_tl,1,2)\n",
    "    fig.append_trace(trace_vl,1,2)\n",
    "    fig['layout']['xaxis'].update(title = 'Epoch')\n",
    "    fig['layout']['xaxis2'].update(title = 'Epoch')\n",
    "    fig['layout']['yaxis'].update(title = 'Accuracy', range=[0,1])\n",
    "    fig['layout']['yaxis2'].update(title = 'Loss', range=[0,1])\n",
    "\n",
    "    \n",
    "    iplot(fig, filename='accuracy-loss')\n",
    "\n",
    "plot_accuracy_and_loss(train_model)"
   ]
  },
  {
   "cell_type": "markdown",
   "id": "d03050ad",
   "metadata": {},
   "source": [
    "# Getting the test accuracy and loss"
   ]
  },
  {
   "cell_type": "code",
   "execution_count": 82,
   "id": "f7e4870c",
   "metadata": {
    "scrolled": true
   },
   "outputs": [
    {
     "name": "stdout",
     "output_type": "stream",
     "text": [
      "Test loss: 0.2118489295244217\n",
      "Test accuracy: 0.92330002784729\n"
     ]
    }
   ],
   "source": [
    "score = model.evaluate(X_test, y_test, verbose=0)\n",
    "print('Test loss:', score[0])\n",
    "print('Test accuracy:', score[1])"
   ]
  },
  {
   "cell_type": "code",
   "execution_count": 83,
   "id": "f95491b8",
   "metadata": {},
   "outputs": [
    {
     "name": "stdout",
     "output_type": "stream",
     "text": [
      "                         precision    recall  f1-score   support\n",
      "\n",
      "Class 0 (T-shirt/top) :       0.86      0.90      0.88      1000\n",
      "    Class 1 (Trouser) :       0.99      0.99      0.99      1000\n",
      "   Class 2 (Pullover) :       0.87      0.89      0.88      1000\n",
      "      Class 3 (Dress) :       0.92      0.95      0.94      1000\n",
      "       Class 4 (Coat) :       0.88      0.90      0.89      1000\n",
      "     Class 5 (Sandal) :       0.99      0.98      0.98      1000\n",
      "      Class 6 (Shirt) :       0.84      0.74      0.78      1000\n",
      "    Class 7 (Sneaker) :       0.95      0.97      0.96      1000\n",
      "        Class 8 (Bag) :       0.99      0.98      0.99      1000\n",
      " Class 9 (Ankle Boot) :       0.96      0.97      0.97      1000\n",
      "\n",
      "               accuracy                           0.93     10000\n",
      "              macro avg       0.93      0.93      0.93     10000\n",
      "           weighted avg       0.93      0.93      0.93     10000\n",
      "\n"
     ]
    }
   ],
   "source": [
    "target_names = [\"Class {} ({}) :\".format(i,labels[i]) for i in range(NUM_CLASSES)]\n",
    "print(classification_report(y_true, predicted_classes, target_names=target_names))\n"
   ]
  },
  {
   "cell_type": "markdown",
   "id": "c6273cf7",
   "metadata": {},
   "source": [
    "# The confusion matrix(both numpy array type and pictoral representation)"
   ]
  },
  {
   "cell_type": "code",
   "execution_count": 84,
   "id": "964a2841",
   "metadata": {},
   "outputs": [
    {
     "data": {
      "image/png": "[encoded data removed]",
      "text/plain": [
       "<Figure size 432x288 with 2 Axes>"
      ]
     },
     "metadata": {
      "needs_background": "light"
     },
     "output_type": "display_data"
    },
    {
     "data": {
      "text/plain": [
       "array([[901,   4,  21,  11,   1,   1,  58,   0,   3,   0],\n",
       "       [  0, 990,   0,   5,   2,   1,   2,   0,   0,   0],\n",
       "       [ 18,   1, 891,  10,  46,   0,  30,   0,   4,   0],\n",
       "       [ 12,   2,   5, 947,  23,   0,   8,   0,   2,   1],\n",
       "       [  0,   0,  34,  24, 902,   0,  39,   0,   0,   1],\n",
       "       [  0,   0,   0,   0,   0, 979,   0,  16,   0,   5],\n",
       "       [109,   3,  67,  28,  53,   0, 736,   0,   4,   0],\n",
       "       [  0,   0,   0,   0,   0,   4,   0, 968,   0,  28],\n",
       "       [  2,   1,   4,   0,   1,   2,   4,   1, 984,   1],\n",
       "       [  0,   0,   0,   0,   0,   1,   0,  31,   0, 968]], dtype=int64)"
      ]
     },
     "execution_count": 84,
     "metadata": {},
     "output_type": "execute_result"
    }
   ],
   "source": [
    "labels = [ \"T-shirt/top\", \"Trouser\", \"Pullover\",  \"Dress\", \"Coat\",\n",
    "           \"Sandal\", \"Shirt\",  \"Sneaker\",  \"Bag\",  \"Ankle Boot\"]\n",
    "cm = confusion_matrix(y_true, predicted_classes)\n",
    "fig, ax = plot_confusion_matrix(conf_mat=cm,\n",
    "                                colorbar=True,\n",
    "                                show_absolute=False,\n",
    "                                show_normed=True,\n",
    "                                class_names=labels)\n",
    "plt.show()\n",
    "cm"
   ]
  },
  {
   "cell_type": "code",
   "execution_count": null,
   "id": "6b52aa8a",
   "metadata": {},
   "outputs": [],
   "source": []
  }
 ],
 "metadata": {
  "kernelspec": {
   "display_name": "Python 3 (ipykernel)",
   "language": "python",
   "name": "python3"
  },
  "language_info": {
   "codemirror_mode": {
    "name": "ipython",
    "version": 3
   },
   "file_extension": ".py",
   "mimetype": "text/x-python",
   "name": "python",
   "nbconvert_exporter": "python",
   "pygments_lexer": "ipython3",
   "version": "3.8.12"
  }
 },
 "nbformat": 4,
 "nbformat_minor": 5
}
